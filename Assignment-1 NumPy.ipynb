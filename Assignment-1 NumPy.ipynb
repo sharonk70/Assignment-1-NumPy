{
 "cells": [
  {
   "cell_type": "code",
   "execution_count": 8,
   "id": "c57fb140",
   "metadata": {},
   "outputs": [
    {
     "name": "stdout",
     "output_type": "stream",
     "text": [
      "[0 0 0 0 1 0 0 0 0 0]\n"
     ]
    }
   ],
   "source": [
    "import numpy as np\n",
    "\n",
    "arr = np.zeros(10 , dtype = int)\n",
    "arr[4] = 1\n",
    "\n",
    "print(arr)"
   ]
  },
  {
   "cell_type": "code",
   "execution_count": 11,
   "id": "9c6f9744",
   "metadata": {},
   "outputs": [
    {
     "name": "stdout",
     "output_type": "stream",
     "text": [
      "[10 11 12 13 14 15 16 17 18 19 20 21 22 23 24 25 26 27 28 29 30 31 32 33\n",
      " 34 35 36 37 38 39 40 41 42 43 44 45 46 47 48 49]\n"
     ]
    }
   ],
   "source": [
    "a = np.arange(10,50)\n",
    "\n",
    "print(a)\n"
   ]
  },
  {
   "cell_type": "code",
   "execution_count": 12,
   "id": "882703ff",
   "metadata": {},
   "outputs": [
    {
     "name": "stdout",
     "output_type": "stream",
     "text": [
      "[[0 1 2]\n",
      " [3 4 5]\n",
      " [6 7 8]]\n"
     ]
    }
   ],
   "source": [
    "x =  np.arange(0, 9).reshape(3,3)\n",
    "print(x)"
   ]
  },
  {
   "cell_type": "code",
   "execution_count": 16,
   "id": "ced35d6d",
   "metadata": {},
   "outputs": [
    {
     "data": {
      "text/plain": [
       "(array([0, 1, 4], dtype=int64),)"
      ]
     },
     "execution_count": 16,
     "metadata": {},
     "output_type": "execute_result"
    }
   ],
   "source": [
    "a = [1,2,0,0,4,0]\n",
    "np.nonzero(a)"
   ]
  },
  {
   "cell_type": "code",
   "execution_count": 18,
   "id": "63173e16",
   "metadata": {},
   "outputs": [
    {
     "name": "stdout",
     "output_type": "stream",
     "text": [
      "[[0.41114552 0.37204628 0.44992144 0.72436565 0.1437462  0.2499119\n",
      "  0.98767975 0.613736   0.063098   0.29865933]\n",
      " [0.77274685 0.46173265 0.82602842 0.40248576 0.57729771 0.19830388\n",
      "  0.87764727 0.75422108 0.46067799 0.31232895]\n",
      " [0.63333998 0.55346244 0.72795745 0.12456838 0.74514311 0.66514395\n",
      "  0.55793099 0.89723204 0.2660573  0.68328485]\n",
      " [0.52509237 0.64356995 0.9510536  0.66306122 0.84009528 0.83587336\n",
      "  0.29531511 0.97850294 0.46153586 0.16596421]\n",
      " [0.41299351 0.6538084  0.1297566  0.05539994 0.72834101 0.56610729\n",
      "  0.16243481 0.46555343 0.20211196 0.36393324]\n",
      " [0.70708656 0.51735237 0.50800854 0.44148052 0.82393766 0.17296965\n",
      "  0.76872754 0.13077349 0.51255155 0.16654423]\n",
      " [0.90964577 0.13305484 0.82836636 0.33125969 0.19978216 0.93287525\n",
      "  0.86251069 0.25336477 0.86493811 0.19269605]\n",
      " [0.85678598 0.20268586 0.30220143 0.16631082 0.81522222 0.63230369\n",
      "  0.1610163  0.54696736 0.54385041 0.83962686]\n",
      " [0.03522371 0.55964273 0.30514832 0.90367936 0.71240009 0.23911006\n",
      "  0.43070471 0.30232441 0.71087581 0.0769984 ]\n",
      " [0.28517948 0.01901086 0.02090246 0.13892547 0.64705992 0.3756552\n",
      "  0.93656005 0.50760798 0.6454327  0.37343016]]\n",
      "Min value:\n",
      "0.019010857380934776\n",
      "Max Value:\n",
      "0.019010857380934776\n"
     ]
    }
   ],
   "source": [
    "x = np.random.random((10,10))\n",
    "print(x) \n",
    "xmin = x.min()\n",
    "xmax = x.min()\n",
    "print(\"Min value:\")\n",
    "print(xmin)\n",
    "print('Max Value:')\n",
    "print(xmax)"
   ]
  },
  {
   "cell_type": "code",
   "execution_count": 27,
   "id": "bb795f13",
   "metadata": {},
   "outputs": [
    {
     "name": "stdout",
     "output_type": "stream",
     "text": [
      "[0.15920753 0.51189135 0.77425304 0.57819084 0.03648667 0.46350744\n",
      " 0.0362237  0.42444029 0.84117036 0.06111333 0.13064773 0.51445118\n",
      " 0.08062347 0.41022116 0.81784526 0.91007374 0.63214394 0.13407484\n",
      " 0.09269063 0.23655246 0.13793985 0.71138609 0.1782687  0.04081186\n",
      " 0.49246145 0.1243828  0.38969493 0.02213663 0.49879245 0.88190742]\n",
      "Mean Value: =  0.37745303799827296\n"
     ]
    }
   ],
   "source": [
    "x = np.random.random(30)\n",
    "print(x)\n",
    "a = np.mean(x)                              \n",
    "print(\"Mean Value: = \",a)"
   ]
  },
  {
   "cell_type": "code",
   "execution_count": null,
   "id": "3dfc5357",
   "metadata": {},
   "outputs": [],
   "source": []
  }
 ],
 "metadata": {
  "kernelspec": {
   "display_name": "Python 3",
   "language": "python",
   "name": "python3"
  },
  "language_info": {
   "codemirror_mode": {
    "name": "ipython",
    "version": 3
   },
   "file_extension": ".py",
   "mimetype": "text/x-python",
   "name": "python",
   "nbconvert_exporter": "python",
   "pygments_lexer": "ipython3",
   "version": "3.8.8"
  }
 },
 "nbformat": 4,
 "nbformat_minor": 5
}
